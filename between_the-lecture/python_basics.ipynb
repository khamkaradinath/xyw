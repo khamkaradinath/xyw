{
 "cells": [
  {
   "cell_type": "code",
   "execution_count": 9,
   "id": "f04261da",
   "metadata": {},
   "outputs": [
    {
     "data": {
      "text/plain": [
       "6"
      ]
     },
     "execution_count": 9,
     "metadata": {},
     "output_type": "execute_result"
    }
   ],
   "source": [
    "a=2;\n",
    "b=4;\n",
    "a+b"
   ]
  },
  {
   "cell_type": "markdown",
   "id": "65db2a96",
   "metadata": {},
   "source": [
    "# Membership Operator-in,not in"
   ]
  },
  {
   "cell_type": "code",
   "execution_count": 3,
   "id": "36928250",
   "metadata": {},
   "outputs": [
    {
     "data": {
      "text/plain": [
       "True"
      ]
     },
     "execution_count": 3,
     "metadata": {},
     "output_type": "execute_result"
    }
   ],
   "source": [
    "x=\"IIT Academy\"\n",
    "a=\"cad\" in x;\n",
    "a"
   ]
  },
  {
   "cell_type": "markdown",
   "id": "a89f206d",
   "metadata": {},
   "source": [
    "# Order of Operatiors"
   ]
  },
  {
   "cell_type": "markdown",
   "id": "6f8ff893",
   "metadata": {},
   "source": [
    "BODMASS"
   ]
  },
  {
   "cell_type": "code",
   "execution_count": 8,
   "id": "6a680915",
   "metadata": {},
   "outputs": [
    {
     "data": {
      "text/plain": [
       "'D:\\\\DataScience_IIT-Guwahati\\\\Python'"
      ]
     },
     "execution_count": 8,
     "metadata": {},
     "output_type": "execute_result"
    }
   ],
   "source": [
    "pwd"
   ]
  },
  {
   "cell_type": "code",
   "execution_count": 10,
   "id": "7ffe63cf",
   "metadata": {},
   "outputs": [],
   "source": [
    "import datetime as dt"
   ]
  },
  {
   "cell_type": "code",
   "execution_count": 21,
   "id": "257489eb",
   "metadata": {},
   "outputs": [],
   "source": [
    "dx=dt.datetime.now()"
   ]
  },
  {
   "cell_type": "code",
   "execution_count": 22,
   "id": "b47ac09d",
   "metadata": {},
   "outputs": [
    {
     "data": {
      "text/plain": [
       "8"
      ]
     },
     "execution_count": 22,
     "metadata": {},
     "output_type": "execute_result"
    }
   ],
   "source": [
    "dx.day\n"
   ]
  },
  {
   "cell_type": "code",
   "execution_count": 23,
   "id": "71a6a288",
   "metadata": {},
   "outputs": [],
   "source": [
    "s=\"Sceience\""
   ]
  },
  {
   "cell_type": "code",
   "execution_count": 27,
   "id": "1fedd155",
   "metadata": {},
   "outputs": [
    {
     "data": {
      "text/plain": [
       "'ecneiecS'"
      ]
     },
     "execution_count": 27,
     "metadata": {},
     "output_type": "execute_result"
    }
   ],
   "source": [
    "s[::-1]"
   ]
  },
  {
   "cell_type": "code",
   "execution_count": 32,
   "id": "0f873232",
   "metadata": {},
   "outputs": [],
   "source": [
    "s=\"python    Data\""
   ]
  },
  {
   "cell_type": "code",
   "execution_count": null,
   "id": "8578b4f2",
   "metadata": {},
   "outputs": [],
   "source": [
    "s.contains(' ')"
   ]
  },
  {
   "cell_type": "code",
   "execution_count": 33,
   "id": "7c40f2c9",
   "metadata": {},
   "outputs": [],
   "source": [
    "s=s.split()"
   ]
  },
  {
   "cell_type": "code",
   "execution_count": 35,
   "id": "d249dad6",
   "metadata": {},
   "outputs": [
    {
     "data": {
      "text/plain": [
       "'python Data'"
      ]
     },
     "execution_count": 35,
     "metadata": {},
     "output_type": "execute_result"
    }
   ],
   "source": [
    "' '.join(s)"
   ]
  },
  {
   "cell_type": "code",
   "execution_count": 1,
   "id": "b4233e91",
   "metadata": {},
   "outputs": [],
   "source": [
    "s=(1,2,3,4,5)"
   ]
  },
  {
   "cell_type": "code",
   "execution_count": 4,
   "id": "b02a443b",
   "metadata": {},
   "outputs": [],
   "source": [
    "l=len(s)"
   ]
  },
  {
   "cell_type": "code",
   "execution_count": 10,
   "id": "173e3422",
   "metadata": {},
   "outputs": [
    {
     "name": "stdout",
     "output_type": "stream",
     "text": [
      "2\n",
      "3\n",
      "4\n",
      "5\n"
     ]
    }
   ],
   "source": [
    "\n",
    "for i in range(l):\n",
    "    if i>0:\n",
    "      print(s[i])"
   ]
  },
  {
   "cell_type": "code",
   "execution_count": 5,
   "id": "4c22b989",
   "metadata": {},
   "outputs": [],
   "source": [
    "def hellow(name,age=60):\n",
    "    print(f\"hellow world {name} from me {age}\")"
   ]
  },
  {
   "cell_type": "code",
   "execution_count": 4,
   "id": "2ececf3f",
   "metadata": {},
   "outputs": [
    {
     "name": "stdout",
     "output_type": "stream",
     "text": [
      "hellow world adinath from me 60\n"
     ]
    }
   ],
   "source": [
    "hellow(\"adinath\")"
   ]
  },
  {
   "cell_type": "code",
   "execution_count": 16,
   "id": "007a69db",
   "metadata": {},
   "outputs": [
    {
     "data": {
      "text/plain": [
       "'science'"
      ]
     },
     "execution_count": 16,
     "metadata": {},
     "output_type": "execute_result"
    }
   ],
   "source": [
    "x=\"data science for me\"\n",
    "f=lambda c:c.split()\n"
   ]
  },
  {
   "cell_type": "code",
   "execution_count": 33,
   "id": "ce8c17ba",
   "metadata": {},
   "outputs": [
    {
     "name": "stdout",
     "output_type": "stream",
     "text": [
      "*\r\n",
      "***\r\n",
      "*****\r\n",
      "*******\r\n",
      "*********\r\n",
      "***********\r\n"
     ]
    }
   ],
   "source": [
    "for i in range(0,6):\n",
    "    for j in range(2*i+1):\n",
    "        print(\"*\",end=\"\")\n",
    "    print(\"\\r\")"
   ]
  },
  {
   "cell_type": "code",
   "execution_count": 35,
   "id": "2a05f22a",
   "metadata": {},
   "outputs": [
    {
     "name": "stdout",
     "output_type": "stream",
     "text": [
      " ********\r\n",
      "  ******\r\n",
      "   ****\r\n",
      "    **\r\n"
     ]
    }
   ],
   "source": [
    "n=5\n",
    "for i in range(1,n):\n",
    "    for j in range(i):\n",
    "        print(' ',end='')\n",
    "    for j in range(n-i):\n",
    "        print(\"*\",end='')\n",
    "    for j in range(n-i):\n",
    "        print(\"*\",end='')\n",
    "    print(\"\\r\")"
   ]
  },
  {
   "cell_type": "code",
   "execution_count": 44,
   "id": "30ba22a4",
   "metadata": {},
   "outputs": [
    {
     "ename": "TypeError",
     "evalue": "'>' not supported between instances of 'int' and 'list'",
     "output_type": "error",
     "traceback": [
      "\u001b[1;31m---------------------------------------------------------------------------\u001b[0m",
      "\u001b[1;31mTypeError\u001b[0m                                 Traceback (most recent call last)",
      "Cell \u001b[1;32mIn[44], line 4\u001b[0m\n\u001b[0;32m      2\u001b[0m a\u001b[38;5;241m=\u001b[39m[\u001b[38;5;241m0\u001b[39m];\n\u001b[0;32m      3\u001b[0m \u001b[38;5;28;01mfor\u001b[39;00m i \u001b[38;5;129;01min\u001b[39;00m \u001b[38;5;28mrange\u001b[39m(\u001b[38;5;28mlen\u001b[39m(l)):\n\u001b[1;32m----> 4\u001b[0m     a\u001b[38;5;241m=\u001b[39m\u001b[38;5;28mmax\u001b[39m(a,l[i])\n\u001b[0;32m      5\u001b[0m \u001b[38;5;28mprint\u001b[39m(a)\n",
      "\u001b[1;31mTypeError\u001b[0m: '>' not supported between instances of 'int' and 'list'"
     ]
    }
   ],
   "source": [
    "l=[1,2,3,5,6,7,8]\n",
    "a=[0];\n",
    "for i in range(len(l)):\n",
    "    a=max(a,l[i])\n",
    "print(a) "
   ]
  },
  {
   "cell_type": "code",
   "execution_count": 47,
   "id": "1e7be991",
   "metadata": {},
   "outputs": [
    {
     "name": "stdout",
     "output_type": "stream",
     "text": [
      "aba\n",
      "121\n"
     ]
    }
   ],
   "source": [
    "l_string=['abc','xyz','aba','121']\n",
    "\n",
    "for i in l_string:\n",
    "    if len(i)>2 and i[0]==i[-1]:\n",
    "        print(i)"
   ]
  },
  {
   "cell_type": "code",
   "execution_count": 48,
   "id": "e5acfb36",
   "metadata": {},
   "outputs": [],
   "source": [
    "l=[(2,5),(1,2),(4,4),(2,3),(2,1)]"
   ]
  },
  {
   "cell_type": "code",
   "execution_count": 52,
   "id": "73beaa5e",
   "metadata": {},
   "outputs": [
    {
     "data": {
      "text/plain": [
       "[(2, 1), (1, 2), (2, 3), (4, 4), (2, 5)]"
      ]
     },
     "execution_count": 52,
     "metadata": {},
     "output_type": "execute_result"
    }
   ],
   "source": [
    "sorted(l,key=lambda x:x[1])"
   ]
  },
  {
   "cell_type": "code",
   "execution_count": 60,
   "id": "a161edf1",
   "metadata": {},
   "outputs": [
    {
     "name": "stdout",
     "output_type": "stream",
     "text": [
      "True\n"
     ]
    }
   ],
   "source": [
    "l1=[1,2,34,5,6]\n",
    "l2=[1,4,9,8,7]\n",
    "for i in l1:\n",
    "    if i in l2:\n",
    "         print(True)\n",
    "         break"
   ]
  },
  {
   "cell_type": "code",
   "execution_count": 9,
   "id": "44daebfe",
   "metadata": {},
   "outputs": [
    {
     "data": {
      "text/plain": [
       "'a- -d- -i- -n- -a- -t- -h'"
      ]
     },
     "execution_count": 9,
     "metadata": {},
     "output_type": "execute_result"
    }
   ],
   "source": [
    "a=\"a d i n a t h\"\n",
    "a.split()\n",
    "'-'.join(a)"
   ]
  },
  {
   "cell_type": "code",
   "execution_count": 8,
   "id": "06f06d82",
   "metadata": {},
   "outputs": [
    {
     "data": {
      "text/plain": [
       "'a- -d- -i- -n- -a- -t- -h'"
      ]
     },
     "execution_count": 8,
     "metadata": {},
     "output_type": "execute_result"
    }
   ],
   "source": []
  },
  {
   "cell_type": "code",
   "execution_count": 11,
   "id": "a990df2a",
   "metadata": {},
   "outputs": [
    {
     "data": {
      "text/plain": [
       "'a-d-i-n-t-h-'"
      ]
     },
     "execution_count": 11,
     "metadata": {},
     "output_type": "execute_result"
    }
   ],
   "source": [
    "a=\"adinth\"\n",
    "str=\"\"\n",
    "for i in a:\n",
    "    str+=i\n",
    "    str+='-'\n",
    "str"
   ]
  },
  {
   "cell_type": "code",
   "execution_count": 12,
   "id": "06d337ca",
   "metadata": {},
   "outputs": [
    {
     "data": {
      "text/plain": [
       "'a-d-i-n-a-t-h'"
      ]
     },
     "execution_count": 12,
     "metadata": {},
     "output_type": "execute_result"
    }
   ],
   "source": [
    "a=\"adinath\"\n",
    "'-'.join(a)"
   ]
  },
  {
   "cell_type": "code",
   "execution_count": 20,
   "id": "8d7da4e7",
   "metadata": {},
   "outputs": [
    {
     "ename": "TypeError",
     "evalue": "identity() got an unexpected keyword argument 'values'",
     "output_type": "error",
     "traceback": [
      "\u001b[1;31m---------------------------------------------------------------------------\u001b[0m",
      "\u001b[1;31mTypeError\u001b[0m                                 Traceback (most recent call last)",
      "Cell \u001b[1;32mIn[20], line 2\u001b[0m\n\u001b[0;32m      1\u001b[0m \u001b[38;5;28;01mimport\u001b[39;00m \u001b[38;5;21;01mnumpy\u001b[39;00m \u001b[38;5;28;01mas\u001b[39;00m \u001b[38;5;21;01mnp\u001b[39;00m\n\u001b[1;32m----> 2\u001b[0m np\u001b[38;5;241m.\u001b[39midentity(\u001b[38;5;241m5\u001b[39m,values\u001b[38;5;241m=\u001b[39m\u001b[38;5;241m2\u001b[39m)\n",
      "\u001b[1;31mTypeError\u001b[0m: identity() got an unexpected keyword argument 'values'"
     ]
    }
   ],
   "source": [
    "import numpy as np\n",
    "np.identity(5)\n"
   ]
  },
  {
   "cell_type": "code",
   "execution_count": 21,
   "id": "fe6a59a6",
   "metadata": {},
   "outputs": [
    {
     "ename": "AttributeError",
     "evalue": "module 'numpy' has no attribute 'upper_diagonal'",
     "output_type": "error",
     "traceback": [
      "\u001b[1;31m---------------------------------------------------------------------------\u001b[0m",
      "\u001b[1;31mAttributeError\u001b[0m                            Traceback (most recent call last)",
      "Cell \u001b[1;32mIn[21], line 1\u001b[0m\n\u001b[1;32m----> 1\u001b[0m np\u001b[38;5;241m.\u001b[39mupper_diagonal()\n",
      "File \u001b[1;32m~\\anaconda3\\Lib\\site-packages\\numpy\\__init__.py:320\u001b[0m, in \u001b[0;36m__getattr__\u001b[1;34m(attr)\u001b[0m\n\u001b[0;32m    317\u001b[0m     \u001b[38;5;28;01mfrom\u001b[39;00m \u001b[38;5;21;01m.\u001b[39;00m\u001b[38;5;21;01mtesting\u001b[39;00m \u001b[38;5;28;01mimport\u001b[39;00m Tester\n\u001b[0;32m    318\u001b[0m     \u001b[38;5;28;01mreturn\u001b[39;00m Tester\n\u001b[1;32m--> 320\u001b[0m \u001b[38;5;28;01mraise\u001b[39;00m \u001b[38;5;167;01mAttributeError\u001b[39;00m(\u001b[38;5;124m\"\u001b[39m\u001b[38;5;124mmodule \u001b[39m\u001b[38;5;132;01m{!r}\u001b[39;00m\u001b[38;5;124m has no attribute \u001b[39m\u001b[38;5;124m\"\u001b[39m\n\u001b[0;32m    321\u001b[0m                      \u001b[38;5;124m\"\u001b[39m\u001b[38;5;132;01m{!r}\u001b[39;00m\u001b[38;5;124m\"\u001b[39m\u001b[38;5;241m.\u001b[39mformat(\u001b[38;5;18m__name__\u001b[39m, attr))\n",
      "\u001b[1;31mAttributeError\u001b[0m: module 'numpy' has no attribute 'upper_diagonal'"
     ]
    }
   ],
   "source": [
    "np.upper_diagonal()"
   ]
  },
  {
   "cell_type": "code",
   "execution_count": 24,
   "id": "31889eb8",
   "metadata": {},
   "outputs": [
    {
     "ename": "TypeError",
     "evalue": "tri() missing 1 required positional argument: 'N'",
     "output_type": "error",
     "traceback": [
      "\u001b[1;31m---------------------------------------------------------------------------\u001b[0m",
      "\u001b[1;31mTypeError\u001b[0m                                 Traceback (most recent call last)",
      "Cell \u001b[1;32mIn[24], line 1\u001b[0m\n\u001b[1;32m----> 1\u001b[0m np\u001b[38;5;241m.\u001b[39mtriu(\u001b[38;5;241m5\u001b[39m,\u001b[38;5;241m0\u001b[39m)\n",
      "File \u001b[1;32m<__array_function__ internals>:200\u001b[0m, in \u001b[0;36mtriu\u001b[1;34m(*args, **kwargs)\u001b[0m\n",
      "File \u001b[1;32m~\\anaconda3\\Lib\\site-packages\\numpy\\lib\\twodim_base.py:536\u001b[0m, in \u001b[0;36mtriu\u001b[1;34m(m, k)\u001b[0m\n\u001b[0;32m    499\u001b[0m \u001b[38;5;250m\u001b[39m\u001b[38;5;124;03m\"\"\"\u001b[39;00m\n\u001b[0;32m    500\u001b[0m \u001b[38;5;124;03mUpper triangle of an array.\u001b[39;00m\n\u001b[0;32m    501\u001b[0m \n\u001b[1;32m   (...)\u001b[0m\n\u001b[0;32m    533\u001b[0m \n\u001b[0;32m    534\u001b[0m \u001b[38;5;124;03m\"\"\"\u001b[39;00m\n\u001b[0;32m    535\u001b[0m m \u001b[38;5;241m=\u001b[39m asanyarray(m)\n\u001b[1;32m--> 536\u001b[0m mask \u001b[38;5;241m=\u001b[39m tri(\u001b[38;5;241m*\u001b[39mm\u001b[38;5;241m.\u001b[39mshape[\u001b[38;5;241m-\u001b[39m\u001b[38;5;241m2\u001b[39m:], k\u001b[38;5;241m=\u001b[39mk\u001b[38;5;241m-\u001b[39m\u001b[38;5;241m1\u001b[39m, dtype\u001b[38;5;241m=\u001b[39m\u001b[38;5;28mbool\u001b[39m)\n\u001b[0;32m    538\u001b[0m \u001b[38;5;28;01mreturn\u001b[39;00m where(mask, zeros(\u001b[38;5;241m1\u001b[39m, m\u001b[38;5;241m.\u001b[39mdtype), m)\n",
      "\u001b[1;31mTypeError\u001b[0m: tri() missing 1 required positional argument: 'N'"
     ]
    }
   ],
   "source": [
    "np.triu()"
   ]
  },
  {
   "cell_type": "code",
   "execution_count": 27,
   "id": "0cc7e83a",
   "metadata": {},
   "outputs": [
    {
     "data": {
      "text/plain": [
       "array([[ 1,  2,  3],\n",
       "       [ 4,  5,  6],\n",
       "       [ 0,  8,  9],\n",
       "       [ 0,  0, 12]])"
      ]
     },
     "execution_count": 27,
     "metadata": {},
     "output_type": "execute_result"
    }
   ],
   "source": [
    "np.triu([[1,2,3],[4,5,6],[7,8,9],[10,11,12]], -1)"
   ]
  },
  {
   "cell_type": "code",
   "execution_count": 2,
   "id": "c3bec8c2",
   "metadata": {},
   "outputs": [],
   "source": [
    "import pandas as pd\n",
    "import numpy as np"
   ]
  },
  {
   "cell_type": "code",
   "execution_count": 5,
   "id": "cc1fc47d",
   "metadata": {},
   "outputs": [],
   "source": [
    "df=pd.Series(np.array([1,2,3,4,5,np.nan,np.nan]))"
   ]
  },
  {
   "cell_type": "code",
   "execution_count": 6,
   "id": "9fedf169",
   "metadata": {},
   "outputs": [
    {
     "data": {
      "text/plain": [
       "0    1.0\n",
       "1    2.0\n",
       "2    3.0\n",
       "3    4.0\n",
       "4    5.0\n",
       "5    3.0\n",
       "6    3.0\n",
       "dtype: float64"
      ]
     },
     "execution_count": 6,
     "metadata": {},
     "output_type": "execute_result"
    }
   ],
   "source": [
    "df.fillna(df.mean())"
   ]
  },
  {
   "cell_type": "code",
   "execution_count": 6,
   "id": "6d5d02e9",
   "metadata": {},
   "outputs": [],
   "source": [
    "import numpy as np\n",
    "import pandas as pd\n",
    "a=np.zeros(6)\n",
    "b=np.arange(0,10,2)"
   ]
  },
  {
   "cell_type": "code",
   "execution_count": 5,
   "id": "121bcae5",
   "metadata": {},
   "outputs": [
    {
     "data": {
      "text/plain": [
       "array([0, 2, 4, 6, 8])"
      ]
     },
     "execution_count": 5,
     "metadata": {},
     "output_type": "execute_result"
    }
   ],
   "source": [
    "b"
   ]
  },
  {
   "cell_type": "code",
   "execution_count": 9,
   "id": "ef37730e",
   "metadata": {},
   "outputs": [],
   "source": [
    "s=pd.Series([1,\"adinath\"])"
   ]
  },
  {
   "cell_type": "code",
   "execution_count": 10,
   "id": "ea590566",
   "metadata": {},
   "outputs": [
    {
     "data": {
      "text/plain": [
       "1"
      ]
     },
     "execution_count": 10,
     "metadata": {},
     "output_type": "execute_result"
    }
   ],
   "source": [
    "s.ndim"
   ]
  },
  {
   "cell_type": "code",
   "execution_count": null,
   "id": "9a15e88a",
   "metadata": {},
   "outputs": [],
   "source": []
  }
 ],
 "metadata": {
  "kernelspec": {
   "display_name": "Python 3 (ipykernel)",
   "language": "python",
   "name": "python3"
  },
  "language_info": {
   "codemirror_mode": {
    "name": "ipython",
    "version": 3
   },
   "file_extension": ".py",
   "mimetype": "text/x-python",
   "name": "python",
   "nbconvert_exporter": "python",
   "pygments_lexer": "ipython3",
   "version": "3.11.5"
  }
 },
 "nbformat": 4,
 "nbformat_minor": 5
}
